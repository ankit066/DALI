{
 "cells": [
  {
   "cell_type": "markdown",
   "id": "d6ac7c5d",
   "metadata": {},
   "source": [
    "### Create a Pipeline that allows a color space conversion \n",
    "\n",
    "You are allowed to take any dataset preferably images.\n",
    "\n",
    "Color conversion from RGB to BGR , RGB to YCbCR , RGB to Gray .\n",
    "__Any kind Plagirism is not allowed its for learning purpose__ .\n",
    "You are allowed to take the reference from DALI documentation (https://docs.nvidia.com/deeplearning/dali/user-guide/docs/)."
   ]
  },
  {
   "cell_type": "code",
   "execution_count": 1,
   "id": "33efa6c0",
   "metadata": {},
   "outputs": [],
   "source": [
    "from nvidia.dali import pipeline_def\n",
    "import nvidia.dali.fn as fn\n",
    "import nvidia.dali.types as types\n",
    "\n",
    "\n",
    "image_dir = \"/data/images\"\n",
    "\n",
    "conversions = [('RGB to BGR', types.RGB, types.BGR),\n",
    "               ('RGB to YCbCR', types.RGB, types.YCbCr),\n",
    "               ('RGB to Gray', types.RGB, types.GRAY)]\n",
    "\n",
    "\n",
    "# Your pipeline function goes here \n",
    "# Hint: Create a function "
   ]
  },
  {
   "cell_type": "markdown",
   "id": "c1304020",
   "metadata": {},
   "source": [
    "## Building and Running the Pipeline"
   ]
  },
  {
   "cell_type": "code",
   "execution_count": null,
   "id": "1f320cd3",
   "metadata": {},
   "outputs": [],
   "source": []
  },
  {
   "cell_type": "markdown",
   "id": "4bde005a",
   "metadata": {},
   "source": [
    "## Visulisation Results feel free to use any visulation library "
   ]
  },
  {
   "cell_type": "code",
   "execution_count": null,
   "id": "2cb0c2d7",
   "metadata": {},
   "outputs": [],
   "source": []
  },
  {
   "cell_type": "markdown",
   "id": "079e01bb",
   "metadata": {},
   "source": [
    "### Analyse the speedup and Compare the GPU and CPU performance \n",
    "\n",
    "#Hint : Try to analyze in terms of throughput and time taken."
   ]
  },
  {
   "cell_type": "code",
   "execution_count": null,
   "id": "db79fd70",
   "metadata": {},
   "outputs": [],
   "source": []
  }
 ],
 "metadata": {
  "kernelspec": {
   "display_name": "Python 3 (ipykernel)",
   "language": "python",
   "name": "python3"
  },
  "language_info": {
   "codemirror_mode": {
    "name": "ipython",
    "version": 3
   },
   "file_extension": ".py",
   "mimetype": "text/x-python",
   "name": "python",
   "nbconvert_exporter": "python",
   "pygments_lexer": "ipython3",
   "version": "3.8.10"
  }
 },
 "nbformat": 4,
 "nbformat_minor": 5
}
